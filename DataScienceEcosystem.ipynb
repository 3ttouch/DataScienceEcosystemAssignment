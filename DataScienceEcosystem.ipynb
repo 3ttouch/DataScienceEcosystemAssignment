{
 "cells": [
  {
   "cell_type": "markdown",
   "id": "bacb9c80-52d9-4b8c-b49b-54b5210e8a8a",
   "metadata": {},
   "source": [
    "# Data Science Tools and Ecosystem"
   ]
  },
  {
   "cell_type": "markdown",
   "id": "1c9c794a-b80b-4dc2-bf1d-a4fe2a022432",
   "metadata": {},
   "source": [
    "In this notebook, Data Science Tools and Ecosystem are summarized."
   ]
  },
  {
   "cell_type": "markdown",
   "id": "8505a5f7-0242-4543-974c-ce54dce4c6a2",
   "metadata": {},
   "source": [
    "## Author\n",
    "Levi Paranihi"
   ]
  },
  {
   "cell_type": "markdown",
   "id": "230699e7-8e99-4781-95dd-a15f9b267946",
   "metadata": {},
   "source": [
    "**Objectives:**\n",
    "- Python\n",
    "- R\n",
    "- C++\n",
    "- Julia\n",
    "- Java\n",
    "- Scala"
   ]
  },
  {
   "cell_type": "markdown",
   "id": "5e1e6bf4-8335-4275-976f-d1f70e4ec99a",
   "metadata": {},
   "source": [
    "Some of the popular languages that Data Scientists use are:\n",
    "1. Python\n",
    "2. R\n",
    "3. C++\n",
    "4. Julia\n",
    "5. Java\n",
    "6. Scala"
   ]
  },
  {
   "cell_type": "markdown",
   "id": "a757ab64-cc98-4a9e-b98d-ecfd7b7a435b",
   "metadata": {},
   "source": [
    "Some of the commonly used libraries used by Data Scientists include:\n",
    "1. Pandas\n",
    "2. Numpy\n",
    "3. Madplotlib\n",
    "4. ggplot\n",
    "5. scikit-learn\n",
    "6. caret\n",
    "    "
   ]
  },
  {
   "cell_type": "markdown",
   "id": "07d89d7d-cbcf-4ee4-bcb4-e69a04e8b558",
   "metadata": {},
   "source": [
    "| Data Science Tools |\n",
    "| ------------------ |\n",
    "| Juypter Notebook |\n",
    "| Visual Studio Code |\n",
    "| Spyder |"
   ]
  },
  {
   "cell_type": "markdown",
   "id": "e074052e-a886-4ea3-9618-f698e338efd8",
   "metadata": {},
   "source": [
    "### Below are a few examples of evaluating arithmetic expressions in Python"
   ]
  },
  {
   "cell_type": "code",
   "execution_count": 1,
   "id": "5db96dce-b70f-438a-912a-56582bbcedf5",
   "metadata": {},
   "outputs": [
    {
     "data": {
      "text/plain": [
       "17"
      ]
     },
     "execution_count": 1,
     "metadata": {},
     "output_type": "execute_result"
    }
   ],
   "source": [
    "# This a simple arithmetic expression to mutiply then add integers\n",
    "(3*4)+5"
   ]
  },
  {
   "cell_type": "code",
   "execution_count": 2,
   "id": "2df00a5a-7a94-472d-966a-6c33b482830f",
   "metadata": {},
   "outputs": [
    {
     "data": {
      "text/plain": [
       "3.3333333333333335"
      ]
     },
     "execution_count": 2,
     "metadata": {},
     "output_type": "execute_result"
    }
   ],
   "source": [
    "# This will convert 200 minutes to hours by diving by 60\n",
    "200/60"
   ]
  },
  {
   "cell_type": "code",
   "execution_count": null,
   "id": "de98c011-a82f-4889-a00a-b707a1564b53",
   "metadata": {},
   "outputs": [],
   "source": [
    "**Objectives:**"
   ]
  }
 ],
 "metadata": {
  "kernelspec": {
   "display_name": "Python 3 (ipykernel)",
   "language": "python",
   "name": "python3"
  },
  "language_info": {
   "codemirror_mode": {
    "name": "ipython",
    "version": 3
   },
   "file_extension": ".py",
   "mimetype": "text/x-python",
   "name": "python",
   "nbconvert_exporter": "python",
   "pygments_lexer": "ipython3",
   "version": "3.10.9"
  }
 },
 "nbformat": 4,
 "nbformat_minor": 5
}
